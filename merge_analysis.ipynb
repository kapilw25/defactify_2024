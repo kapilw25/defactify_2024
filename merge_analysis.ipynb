{
 "cells": [
  {
   "cell_type": "code",
   "execution_count": null,
   "metadata": {},
   "outputs": [],
   "source": [
    "# megre these 3 CSV files into one\n",
    "First_file = 'results/baseline_benchmark_33_results_mac.csv' # rows 0 to 3654\n",
    "Second_file = 'results/baseline_benchmark_33_results_gpu1.csv' # rows 3654 to 7308\n",
    "Third_file = 'results/baseline_benchmark_33_results_gpu2.csv' # rows 7308 to 10963\n",
    "\n",
    "# these 3 files have common headers with column names [index,Text,best LLM model,Qwen Qwen2 72B Instruct Edit Score,Qwen Qwen2 72B Instruct New Text,mistralai Mistral 7B Instruct v0.1 Edit Score,mistralai Mistral 7B Instruct v0.1 New Text,meta llama Meta Llama 3.1 8B Instruct Turbo Edit Score,meta llama Meta Llama 3.1 8B Instruct Turbo New Text,Yi Large Edit Score,Yi Large New Text,Gemma 3 27b Edit Score,Gemma 3 27b New Text]\n",
    "import pandas as pd\n",
    "def merge_csv_files(file1, file2, file3, output_file):\n",
    "    # Read the CSV files\n",
    "    df1 = pd.read_csv(file1)\n",
    "    df2 = pd.read_csv(file2)\n",
    "    df3 = pd.read_csv(file3)\n",
    "\n",
    "    # Concatenate the DataFrames\n",
    "    merged_df = pd.concat([df1, df2, df3], ignore_index=True)\n",
    "\n",
    "    # Save the merged DataFrame to a new CSV file\n",
    "    merged_df.to_csv(output_file, index=False)\n",
    "# Define the output file name\n",
    "output_file = 'results/baseline_benchmark_33_results_merged.csv'\n",
    "\n",
    "# call the function to merge the files\n",
    "merge_csv_files(First_file, Second_file, Third_file, output_file)"
   ]
  },
  {
   "cell_type": "code",
   "execution_count": 6,
   "metadata": {},
   "outputs": [
    {
     "name": "stdout",
     "output_type": "stream",
     "text": [
      "Merged CSV files into results/baseline_benchmark_33_results_merged.csv\n",
      "The merged file contains 10931 rows.\n",
      "The merged file contains 13 columns.\n",
      "The merged file contains the following columns: ['index', 'Text', 'best LLM model', 'Qwen Qwen2 72B Instruct Edit Score', 'Qwen Qwen2 72B Instruct New Text', 'mistralai Mistral 7B Instruct v0.1 Edit Score', 'mistralai Mistral 7B Instruct v0.1 New Text', 'meta llama Meta Llama 3.1 8B Instruct Turbo Edit Score', 'meta llama Meta Llama 3.1 8B Instruct Turbo New Text', 'Yi Large Edit Score', 'Yi Large New Text', 'Gemma 3 27b Edit Score', 'Gemma 3 27b New Text']\n",
      "The shape of the merged DataFrame is: (10931, 13)\n"
     ]
    }
   ],
   "source": [
    "# Print a message indicating the merge is complete\n",
    "print(f'Merged CSV files into {output_file}')\n",
    "# Check the first few rows of the merged file\n",
    "merged_df = pd.read_csv(output_file)\n",
    "\n",
    "# Print the number of rows in the merged file\n",
    "print(f'The merged file contains {len(merged_df)} rows.')\n",
    "# Print the number of columns in the merged file\n",
    "print(f'The merged file contains {len(merged_df.columns)} columns.')\n",
    "# Print the column names of the merged file\n",
    "print(f'The merged file contains the following columns: {merged_df.columns.tolist()}')\n",
    "# Print the shape of the merged DataFrame\n",
    "print(f'The shape of the merged DataFrame is: {merged_df.shape}')"
   ]
  },
  {
   "cell_type": "code",
   "execution_count": 9,
   "metadata": {},
   "outputs": [
    {
     "data": {
      "text/html": [
       "<div>\n",
       "<style scoped>\n",
       "    .dataframe tbody tr th:only-of-type {\n",
       "        vertical-align: middle;\n",
       "    }\n",
       "\n",
       "    .dataframe tbody tr th {\n",
       "        vertical-align: top;\n",
       "    }\n",
       "\n",
       "    .dataframe thead th {\n",
       "        text-align: right;\n",
       "    }\n",
       "</style>\n",
       "<table border=\"1\" class=\"dataframe\">\n",
       "  <thead>\n",
       "    <tr style=\"text-align: right;\">\n",
       "      <th></th>\n",
       "      <th>index</th>\n",
       "      <th>Text</th>\n",
       "      <th>best LLM model</th>\n",
       "      <th>Qwen Qwen2 72B Instruct Edit Score</th>\n",
       "      <th>Qwen Qwen2 72B Instruct New Text</th>\n",
       "      <th>mistralai Mistral 7B Instruct v0.1 Edit Score</th>\n",
       "      <th>mistralai Mistral 7B Instruct v0.1 New Text</th>\n",
       "      <th>meta llama Meta Llama 3.1 8B Instruct Turbo Edit Score</th>\n",
       "      <th>meta llama Meta Llama 3.1 8B Instruct Turbo New Text</th>\n",
       "      <th>Yi Large Edit Score</th>\n",
       "      <th>Yi Large New Text</th>\n",
       "      <th>Gemma 3 27b Edit Score</th>\n",
       "      <th>Gemma 3 27b New Text</th>\n",
       "    </tr>\n",
       "  </thead>\n",
       "  <tbody>\n",
       "    <tr>\n",
       "      <th>10929</th>\n",
       "      <td>10961</td>\n",
       "      <td>Error : Error communicating with OpenAI : HTTP...</td>\n",
       "      <td>mistralai/Mistral-7B-Instruct-v0.1</td>\n",
       "      <td>260.0</td>\n",
       "      <td>Regenerated Text: \\n\\nAn error has occurred: T...</td>\n",
       "      <td>2.0</td>\n",
       "      <td>Error: Error communicating with OpenAI: HTTPS...</td>\n",
       "      <td>389.0</td>\n",
       "      <td>Here's the regenerated text with proper format...</td>\n",
       "      <td>18.0</td>\n",
       "      <td>Error: Error communicating with OpenAI: HTTPSC...</td>\n",
       "      <td>4104.0</td>\n",
       "      <td>Okay, here are a few regenerations of the prov...</td>\n",
       "    </tr>\n",
       "    <tr>\n",
       "      <th>10930</th>\n",
       "      <td>10962</td>\n",
       "      <td>ensemble cast , especially Ayo Edebiri Jeremy ...</td>\n",
       "      <td>meta-llama/Meta-Llama-3.1-8B-Instruct-Turbo</td>\n",
       "      <td>1978.0</td>\n",
       "      <td>The ensemble cast, notably featuring Ayo Edebi...</td>\n",
       "      <td>2999.0</td>\n",
       "      <td>The ensemble cast of the show \"Eyes Wide Shut...</td>\n",
       "      <td>1010.0</td>\n",
       "      <td>Here's the regenerated text:\\n\\nThe ensemble c...</td>\n",
       "      <td>1019.0</td>\n",
       "      <td>Ensemble cast, especially Ayo Edebiri and Jere...</td>\n",
       "      <td>3130.0</td>\n",
       "      <td>## Culture Watch: Five Things I’m Engaging Wit...</td>\n",
       "    </tr>\n",
       "  </tbody>\n",
       "</table>\n",
       "</div>"
      ],
      "text/plain": [
       "       index                                               Text  \\\n",
       "10929  10961  Error : Error communicating with OpenAI : HTTP...   \n",
       "10930  10962  ensemble cast , especially Ayo Edebiri Jeremy ...   \n",
       "\n",
       "                                    best LLM model  \\\n",
       "10929           mistralai/Mistral-7B-Instruct-v0.1   \n",
       "10930  meta-llama/Meta-Llama-3.1-8B-Instruct-Turbo   \n",
       "\n",
       "       Qwen Qwen2 72B Instruct Edit Score  \\\n",
       "10929                               260.0   \n",
       "10930                              1978.0   \n",
       "\n",
       "                        Qwen Qwen2 72B Instruct New Text  \\\n",
       "10929  Regenerated Text: \\n\\nAn error has occurred: T...   \n",
       "10930  The ensemble cast, notably featuring Ayo Edebi...   \n",
       "\n",
       "       mistralai Mistral 7B Instruct v0.1 Edit Score  \\\n",
       "10929                                            2.0   \n",
       "10930                                         2999.0   \n",
       "\n",
       "             mistralai Mistral 7B Instruct v0.1 New Text  \\\n",
       "10929   Error: Error communicating with OpenAI: HTTPS...   \n",
       "10930   The ensemble cast of the show \"Eyes Wide Shut...   \n",
       "\n",
       "       meta llama Meta Llama 3.1 8B Instruct Turbo Edit Score  \\\n",
       "10929                                              389.0        \n",
       "10930                                             1010.0        \n",
       "\n",
       "      meta llama Meta Llama 3.1 8B Instruct Turbo New Text  \\\n",
       "10929  Here's the regenerated text with proper format...     \n",
       "10930  Here's the regenerated text:\\n\\nThe ensemble c...     \n",
       "\n",
       "       Yi Large Edit Score                                  Yi Large New Text  \\\n",
       "10929                 18.0  Error: Error communicating with OpenAI: HTTPSC...   \n",
       "10930               1019.0  Ensemble cast, especially Ayo Edebiri and Jere...   \n",
       "\n",
       "       Gemma 3 27b Edit Score  \\\n",
       "10929                  4104.0   \n",
       "10930                  3130.0   \n",
       "\n",
       "                                    Gemma 3 27b New Text  \n",
       "10929  Okay, here are a few regenerations of the prov...  \n",
       "10930  ## Culture Watch: Five Things I’m Engaging Wit...  "
      ]
     },
     "metadata": {},
     "output_type": "display_data"
    }
   ],
   "source": [
    "# display 1st 10 and last 10 rows of the merged DataFrame\n",
    "\n",
    "# display(merged_df.head(10))\n",
    "display(merged_df.tail(2))"
   ]
  },
  {
   "cell_type": "code",
   "execution_count": 8,
   "metadata": {},
   "outputs": [
    {
     "name": "stdout",
     "output_type": "stream",
     "text": [
      "The size of the merged file results/baseline_benchmark_33_results_merged.csv is 164.28 MB.\n",
      "The size of the file results/baseline_benchmark_33_results_mac.csv is 50.40 MB.\n",
      "The size of the file results/baseline_benchmark_33_results_gpu1.csv is 50.24 MB.\n",
      "The size of the file results/baseline_benchmark_33_results_gpu2.csv is 63.64 MB.\n"
     ]
    }
   ],
   "source": [
    "# check the size in MB of results/baseline_benchmark_33_results_merged.csv\n",
    "import os\n",
    "file_size = os.path.getsize(output_file) / (1024 * 1024)  # Convert bytes to MB\n",
    "print(f'The size of the merged file {output_file} is {file_size:.2f} MB.')\n",
    "# check the size in MB of each of the 3 original files\n",
    "for file in [First_file, Second_file, Third_file]:\n",
    "    size = os.path.getsize(file) / (1024 * 1024)  # Convert bytes to MB\n",
    "    print(f'The size of the file {file} is {size:.2f} MB.')"
   ]
  }
 ],
 "metadata": {
  "kernelspec": {
   "display_name": "1_venv",
   "language": "python",
   "name": "python3"
  },
  "language_info": {
   "codemirror_mode": {
    "name": "ipython",
    "version": 3
   },
   "file_extension": ".py",
   "mimetype": "text/x-python",
   "name": "python",
   "nbconvert_exporter": "python",
   "pygments_lexer": "ipython3",
   "version": "3.11.4"
  }
 },
 "nbformat": 4,
 "nbformat_minor": 2
}
