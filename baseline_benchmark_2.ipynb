{
 "cells": [
  {
   "cell_type": "code",
   "execution_count": 2,
   "metadata": {},
   "outputs": [],
   "source": [
    "import requests\n",
    "import json\n",
    "import os\n",
    "from dotenv import load_dotenv"
   ]
  },
  {
   "cell_type": "code",
   "execution_count": 3,
   "metadata": {},
   "outputs": [],
   "source": [
    "# Load environment variables from .env file\n",
    "# logger.info(\"Loading environment variables from .env file\")\n",
    "load_dotenv()\n",
    "\n",
    "# Get API keys from environment variables\n",
    "together_apikey = os.environ.get('TOGETHER_API_KEY')\n",
    "firework_apikey = os.environ.get('FIREWORK_API_KEY')\n",
    "hf_api_key = os.environ.get('HF_API_KEY')"
   ]
  },
  {
   "cell_type": "code",
   "execution_count": 5,
   "metadata": {},
   "outputs": [],
   "source": [
    "def togetherai(question,model,api_key=together_apikey):\n",
    "    # url = \"https://api.fireworks.ai/inference/v1/chat/completions\" #for FW\n",
    "    url = \"https://api.together.xyz/v1/chat/completions\"  #-- for Together AI\n",
    "    formatted_prompt = f\"Regenerate provided text: TEXT = {question}\"\n",
    "    payload = {\n",
    "        \"model\": model,\n",
    "        \"messages\": [{\"role\": \"user\", \"content\": formatted_prompt}],\n",
    "        \"max_tokens\": 1024,\n",
    "        \"top_p\": 1,\n",
    "        \"top_k\": 40,\n",
    "        \"presence_penalty\": 0,\n",
    "        \"frequency_penalty\": 0,\n",
    "        \"temperature\": 0.5,\n",
    "    }\n",
    "\n",
    "    headers = {\n",
    "        \"Accept\": \"application/json\",\n",
    "        \"Content-Type\": \"application/json\",\n",
    "        \"Authorization\": f\"Bearer {api_key}\"\n",
    "    }\n",
    "\n",
    "    response = requests.post(url, headers=headers, data=json.dumps(payload))\n",
    "\n",
    "    if response.status_code == 200:\n",
    "        # Extract the output message\n",
    "        output_message = response.json()['choices'][0]['message']['content']\n",
    "        return output_message\n",
    "    else:\n",
    "        print(f\"Error: {response.status_code}, {response.text}\")\n",
    "        return None"
   ]
  },
  {
   "cell_type": "code",
   "execution_count": 6,
   "metadata": {},
   "outputs": [],
   "source": [
    "def fireworks(question,api_key=firework_apikey,model=\"accounts/yi-01-ai/models/yi-large\"):\n",
    "    url = \"https://api.fireworks.ai/inference/v1/chat/completions\" #for FW\n",
    "    # url = \"https://api.together.xyz/v1/chat/completions\"  #-- for Together AI\n",
    "    formatted_prompt = f\"Regenerate the text: TEXT={question}\\n\"\n",
    "    payload = {\n",
    "        \"model\": model,\n",
    "        \"messages\": [{\"role\": \"user\", \"content\": formatted_prompt}],\n",
    "        \"max_tokens\": 1024,\n",
    "        \"top_p\": 1,\n",
    "        \"top_k\": 40,\n",
    "        \"presence_penalty\": 0,\n",
    "        \"frequency_penalty\": 0,\n",
    "        \"temperature\": 0.5,\n",
    "    }\n",
    "\n",
    "    headers = {\n",
    "        \"Accept\": \"application/json\",\n",
    "        \"Content-Type\": \"application/json\",\n",
    "        \"Authorization\": f\"Bearer {api_key}\"\n",
    "    }\n",
    "\n",
    "    response = requests.post(url, headers=headers, data=json.dumps(payload))\n",
    "\n",
    "    if response.status_code == 200:\n",
    "        # Extract the output message\n",
    "        output_message = response.json()['choices'][0]['message']['content']\n",
    "        return output_message\n",
    "    else:\n",
    "        print(f\"Error: {response.status_code}, {response.text}\")\n",
    "        return None"
   ]
  },
  {
   "cell_type": "code",
   "execution_count": 7,
   "metadata": {},
   "outputs": [],
   "source": [
    "together_ai_models=[\n",
    "    \"Qwen/Qwen2-72B-Instruct\",\n",
    "    # \"google/gemma-2-9b-it\",\n",
    "    \"mistralai/Mistral-7B-Instruct-v0.1\",\n",
    "    \"meta-llama/Meta-Llama-3.1-8B-Instruct-Turbo\"\n",
    "    ]"
   ]
  },
  {
   "cell_type": "code",
   "execution_count": 8,
   "metadata": {},
   "outputs": [],
   "source": [
    "class Score:\n",
    "    def __init__(self,edit_score,new_text,model):\n",
    "        self.edit_score=edit_score\n",
    "        self.new_text=new_text\n",
    "        self.model=model"
   ]
  },
  {
   "cell_type": "code",
   "execution_count": 9,
   "metadata": {},
   "outputs": [
    {
     "name": "stdout",
     "output_type": "stream",
     "text": [
      "Requirement already satisfied: Levenshtein in ./1_venv/lib/python3.11/site-packages (0.27.1)\n",
      "Requirement already satisfied: rapidfuzz<4.0.0,>=3.9.0 in ./1_venv/lib/python3.11/site-packages (from Levenshtein) (3.13.0)\n",
      "\n",
      "\u001b[1m[\u001b[0m\u001b[34;49mnotice\u001b[0m\u001b[1;39;49m]\u001b[0m\u001b[39;49m A new release of pip is available: \u001b[0m\u001b[31;49m23.1.2\u001b[0m\u001b[39;49m -> \u001b[0m\u001b[32;49m25.1.1\u001b[0m\n",
      "\u001b[1m[\u001b[0m\u001b[34;49mnotice\u001b[0m\u001b[1;39;49m]\u001b[0m\u001b[39;49m To update, run: \u001b[0m\u001b[32;49mpip install --upgrade pip\u001b[0m\n"
     ]
    }
   ],
   "source": [
    "!pip install Levenshtein"
   ]
  },
  {
   "cell_type": "code",
   "execution_count": 10,
   "metadata": {},
   "outputs": [
    {
     "name": "stderr",
     "output_type": "stream",
     "text": [
      "[nltk_data] Downloading package punkt_tab to\n",
      "[nltk_data]     /Users/kapilwanaskar/nltk_data...\n",
      "[nltk_data]   Unzipping tokenizers/punkt_tab.zip.\n"
     ]
    }
   ],
   "source": [
    "from nltk.tokenize import word_tokenize\n",
    "import Levenshtein\n",
    "import nltk\n",
    "nltk.download('punkt_tab')\n",
    "def get_edit_distance(text1, text2):\n",
    "    tokens1 = word_tokenize(text1)\n",
    "    tokens2 = word_tokenize(text2)\n",
    "    joined1 = \" \".join(tokens1)\n",
    "    joined2 = \" \".join(tokens2)\n",
    "    distance = Levenshtein.distance(joined1, joined2)\n",
    "    return distance"
   ]
  },
  {
   "cell_type": "code",
   "execution_count": 11,
   "metadata": {},
   "outputs": [],
   "source": [
    "def detect_text(text):\n",
    "    edit_distance_score=[]\n",
    "    for model in together_ai_models:\n",
    "        new_text=togetherai(text,model)\n",
    "        edit_score=get_edit_distance(text,new_text)\n",
    "        edit_distance_score.append(Score(edit_score,new_text,model))\n",
    "    new_text=fireworks(text)\n",
    "    edit_score=get_edit_distance(text,new_text)\n",
    "    edit_distance_score.append(Score(edit_score,new_text,\"Yi-Large\"))\n",
    "    return edit_distance_score"
   ]
  },
  {
   "cell_type": "code",
   "execution_count": 12,
   "metadata": {},
   "outputs": [],
   "source": [
    "text=\"\"\"\n",
    "Global Economy Global Economy Supported by World Bank Sees Rosier Growth Outlook But rising trade barriers pose a long-term threat to global output as protectionist policies spread, the bank said. ByAlan Rappeport Reporting from Washington The World Bank on Tuesday raised its outlook for the world economy this year but warned that the rise of new trade barriers and protectionist policies posed a long-term threat to global growth. In its latest Global Economic Prospects report, the World Bank projected global growth to hold steady at 2.6 percent this year, an upgrade from itsJanuary forecastof 2.4 percent, and predicted that output would edge higher to 2.7 percent in 2025. The forecasts showed the global economy stabilizing after being rocked in recent years by the pandemic and the wars in Ukraine and the Middle East. “Four years after the upheavals caused by the pandemic, conflicts, inflation and monetary tightening, it appears that global economic growth is steadying,” Indermit Gill, the World Bank’s chief economist, said in a statement accompanying the report. However, sluggish growth continues to haunt the world’s poorest economies, which are still grappling with inflation and the burdens of high debt. The bank noted that over the next three years, countries that account for more than 80 percent of the world’s population would experience slower growth than in the decade before the pandemic. The slightly brighter forecast was led by the resilience of the U.S. economy, which continues to defy expectations despite higher interest rates. Overall, advanced economies are growing at an annual rate of 1.5 percent, with output remaining sluggish in Europe and Japan. By contrast, emerging market and developing economies are growing at a rate of 4 percent, led by China and Indonesia. Although growth is expected to be a bit stronger than previously forecast, the World Bank said prices were easing more slowly than it projected six months ago. It foresees global inflation moderating to 3.5 percent in 2024 and 2.9 percent next year. That gradual decline is likely to lead central banks to delay interest rate cuts, dimming prospects for growth in developing economies.\"\"\"\n",
    "     "
   ]
  },
  {
   "cell_type": "code",
   "execution_count": 14,
   "metadata": {},
   "outputs": [],
   "source": [
    "data=detect_text(text)"
   ]
  },
  {
   "cell_type": "code",
   "execution_count": 15,
   "metadata": {},
   "outputs": [
    {
     "name": "stdout",
     "output_type": "stream",
     "text": [
      "Text: \n",
      "Global Economy Global Economy Supported by World Bank Sees Rosier Growth Outlook But rising trade barriers pose a long-term threat to global output as protectionist policies spread, the bank said. ByAlan Rappeport Reporting from Washington The World Bank on Tuesday raised its outlook for the world economy this year but warned that the rise of new trade barriers and protectionist policies posed a long-term threat to global growth. In its latest Global Economic Prospects report, the World Bank projected global growth to hold steady at 2.6 percent this year, an upgrade from itsJanuary forecastof 2.4 percent, and predicted that output would edge higher to 2.7 percent in 2025. The forecasts showed the global economy stabilizing after being rocked in recent years by the pandemic and the wars in Ukraine and the Middle East. “Four years after the upheavals caused by the pandemic, conflicts, inflation and monetary tightening, it appears that global economic growth is steadying,” Indermit Gill, the World Bank’s chief economist, said in a statement accompanying the report. However, sluggish growth continues to haunt the world’s poorest economies, which are still grappling with inflation and the burdens of high debt. The bank noted that over the next three years, countries that account for more than 80 percent of the world’s population would experience slower growth than in the decade before the pandemic. The slightly brighter forecast was led by the resilience of the U.S. economy, which continues to defy expectations despite higher interest rates. Overall, advanced economies are growing at an annual rate of 1.5 percent, with output remaining sluggish in Europe and Japan. By contrast, emerging market and developing economies are growing at a rate of 4 percent, led by China and Indonesia. Although growth is expected to be a bit stronger than previously forecast, the World Bank said prices were easing more slowly than it projected six months ago. It foresees global inflation moderating to 3.5 percent in 2024 and 2.9 percent next year. That gradual decline is likely to lead central banks to delay interest rate cuts, dimming prospects for growth in developing economies.\n"
     ]
    }
   ],
   "source": [
    "print(\"Text:\", text)"
   ]
  },
  {
   "cell_type": "code",
   "execution_count": 19,
   "metadata": {},
   "outputs": [
    {
     "name": "stdout",
     "output_type": "stream",
     "text": [
      "Qwen/Qwen2-72B-Instruct -- 1386 --TEXT = \n",
      "Wo...\n",
      "mistralai/Mistral-7B-Instruct-v0.1 -- 1334 -- The globa...\n",
      "meta-llama/Meta-Llama-3.1-8B-Instruct-Turbo -- 33 --Global Eco...\n",
      "Yi-Large -- 1221 --Global Eco...\n"
     ]
    }
   ],
   "source": [
    "for item in data:\n",
    "    print(f\"{item.model} -- {item.edit_score} --{item.new_text[:10]}...\")  # Print only the first 100 characters of new_text"
   ]
  },
  {
   "cell_type": "code",
   "execution_count": 29,
   "metadata": {},
   "outputs": [],
   "source": [
    "import pandas as pd\n",
    "from collections import defaultdict\n",
    "\n",
    "def save_to_csv(data, original_text, filename='output.csv'):\n",
    "    # Group data by model\n",
    "    models_data = defaultdict(list)\n",
    "    for item in data:\n",
    "        models_data[item.model].append(item)\n",
    "\n",
    "    \n",
    "    # Create rows with model data in separate columns\n",
    "    rows = []\n",
    "    max_entries = max([len(entries) for entries in models_data.values()])\n",
    "    \n",
    "    for i in range(max_entries):\n",
    "        row = {'Sr. No': i + 1, 'Original Text': original_text}\n",
    "        \n",
    "        # Track the best model (lowest edit score) for this row\n",
    "        best_model = None\n",
    "        lowest_edit_score = float('inf')\n",
    "        \n",
    "        # Add each model's data in separate columns\n",
    "        for model_name, items in models_data.items():\n",
    "            if i < len(items):\n",
    "                edit_score = items[i].edit_score\n",
    "                row[f'{model_name}_Edit_Score'] = items[i].edit_score\n",
    "                row[f'{model_name}_New_Text'] = items[i].new_text\n",
    "                \n",
    "                # Check if this model has the lowest edit score so far\n",
    "                if edit_score < lowest_edit_score:\n",
    "                    lowest_edit_score = edit_score\n",
    "                    best_model = model_name\n",
    "            \n",
    "            else:\n",
    "                # Fill with empty values if this model has fewer entries\n",
    "                row[f'{model_name}_Edit_Score'] = None\n",
    "                row[f'{model_name}_Regenerated_Text'] = None\n",
    "        \n",
    "        # Add the best model column\n",
    "        row['best_LLM_model'] = best_model\n",
    "        rows.append(row)\n",
    "    \n",
    "    df = pd.DataFrame(rows)\n",
    "    # move 'best_LLM_model' columns at 3rd position >> columns >> sr. no, original_text,best_LLM_model, <model1_name>, <model1_edit_score>, <model1_new_text>, <model2_name>, <model2_edit_score>, <model2_new_text>...\n",
    "    cols = df.columns.tolist()\n",
    "    cols.insert(2, cols.pop(cols.index('best_LLM_model')))\n",
    "    df = df[cols]\n",
    "    # Save DataFrame to CSV\n",
    "    if os.path.exists(filename):\n",
    "        os.remove(filename)  # Remove the file if it already exists\n",
    "        \n",
    "    # in each name of column, replace '/',\"_\",'-' with blank space ' '\n",
    "    df.columns = [col.replace('/', ' ').replace('_', ' ').replace('-', ' ') for col in df.columns]\n",
    "    # Save DataFrame to CS\n",
    "    df.to_csv(filename, index=False)\n",
    "\n",
    "save_to_csv(data, text, 'baseline_benchmark_3_results.csv')"
   ]
  },
  {
   "cell_type": "code",
   "execution_count": null,
   "metadata": {},
   "outputs": [],
   "source": []
  }
 ],
 "metadata": {
  "kernelspec": {
   "display_name": "1_venv",
   "language": "python",
   "name": "python3"
  },
  "language_info": {
   "codemirror_mode": {
    "name": "ipython",
    "version": 3
   },
   "file_extension": ".py",
   "mimetype": "text/x-python",
   "name": "python",
   "nbconvert_exporter": "python",
   "pygments_lexer": "ipython3",
   "version": "3.11.4"
  }
 },
 "nbformat": 4,
 "nbformat_minor": 2
}
